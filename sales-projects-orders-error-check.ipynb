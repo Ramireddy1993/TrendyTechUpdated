{
 "cells": [
  {
   "cell_type": "code",
   "execution_count": 0,
   "metadata": {
    "application/vnd.databricks.v1+cell": {
     "cellMetadata": {
      "byteLimit": 2048000,
      "rowLimit": 10000
     },
     "inputWidgets": {},
     "nuid": "fc50f73c-9856-439e-a468-6651ff03eba5",
     "showTitle": false,
     "title": ""
    }
   },
   "outputs": [
    {
     "output_type": "stream",
     "name": "stdout",
     "output_type": "stream",
     "text": [
      "mount successful\n"
     ]
    }
   ],
   "source": [
    "storageAccountKey = dbutils.secrets.get(scope = 'databricksScope', key = 'storage-account-access-key')\n",
    "\n",
    "alreadyMounted = False\n",
    "for x in dbutils.fs.mounts():\n",
    "\tif x.mountPoint == \"/mnt/sales\":\n",
    "\t\talreadyMounted = True\n",
    "\t\tbreak\n",
    "\n",
    "if not alreadyMounted:\n",
    "\t\tdbutils.fs.mount(source = 'wasbs://sales@salesprojectsa123.blob.core.windows.net',\n",
    "                 mount_point = '/mnt/sales',\n",
    "                 extra_configs = {'fs.azure.account.key.salesprojectsa123.blob.core.windows.net':storageAccountKey})\n",
    "\t\tprint(\"mount successful\")\n",
    "else:\n",
    "\tprint(\"Already mounted\")\n",
    "\n",
    "\n"
   ]
  },
  {
   "cell_type": "code",
   "execution_count": 0,
   "metadata": {
    "application/vnd.databricks.v1+cell": {
     "cellMetadata": {},
     "inputWidgets": {},
     "nuid": "75f2b629-89b9-46af-9f99-97eea764da12",
     "showTitle": false,
     "title": ""
    }
   },
   "outputs": [],
   "source": [
    "\n",
    "filename = dbutils.widgets.get('filename')\n",
    "\n",
    "\n",
    "orders  = spark.read.csv(\"/mnt/sales/landing/{}\".format(filename), inferSchema=True, header=True)\n",
    "\n",
    "\n",
    "#check if order_id column is distinct or not\n",
    "errorFlag = False\n",
    "ordersCount = orders.count()\n",
    "orderIdCount = orders.select(\"order_id\").distinct().count()\n",
    "\n",
    "if ordersCount != orderIdCount:\n",
    "    errorFlag = True\n",
    "\n",
    "if errorFlag:\n",
    "    dbutils.fs.mv(\"/mnt/sales/landing/{}\".format(filename),'/mnt/sales/discarded')\n",
    "    dbutils.notebook.exit('{\"errorFlag\":\"true\", \"errorMessage\":\"Order ID is repeated\"}')\n",
    "\n",
    "orders.createOrReplaceTempView(\"orders_table\")\n",
    "\n",
    "\n",
    "#connecting to sql database\n",
    "dbServer= 'sales-project-sql-server'\n",
    "dbPort = '1433'\n",
    "dbName= 'sales-project'\n",
    "dbUser= 'ramireddy'\n",
    "databricksScope= 'sales-project-scope'\n",
    "\n",
    "connectionUrl = 'jdbc:sqlserver://{}.database.windows.net:{};database={};user={};'.format(dbServer,dbPort, dbName, dbUser)\n",
    "dbPassword = dbutils.secrets.get(scope = databricksScope, key= 'sql-password')\n",
    "\n",
    "connectionProperties = {\n",
    "'password': dbPassword,\n",
    "'driver':'com.microsoft.sqlserver.jdbc.SQLServerDriver'\n",
    "}\n",
    "\n",
    "\n",
    "valid_order_status = spark.read.jdbc(url=connectionUrl, table='dbo.valid_order_status', properties=connectionProperties)\n",
    "\n",
    "valid_order_status.createOrReplaceTempView('valid_status')\n",
    "\n",
    "invalidIdRows = spark.sql(\"select * from orders_table where order_status not in (select * from valid_status)\")\n",
    "\n",
    "\n",
    "if invalidIdRows.count() > 0:\n",
    "    errorFlag = True \n",
    "\n",
    "if errorFlag:\n",
    "    dbutils.fs.mv(\"/mnt/sales/landing/{}\".format(filename),'/mnt/sales/discarded')\n",
    "    dbutils.notebook.exit('{\"errorFlag\":\"true\", \"errorMessage\":\"Invalid Order Status\"}')\n",
    "else:\n",
    "    dbutils.fs.mv(\"/mnt/sales/landing/{}\".format(filename),'/mnt/sales/staging')\n",
    "    dbutils.notebook.exit('{\"errorFlag\":\"false\", \"errorMessage\":\"No Errors\"}')\n",
    "\n",
    "\n"
   ]
  }
 ],
 "metadata": {
  "application/vnd.databricks.v1+notebook": {
   "dashboards": [],
   "language": "python",
   "notebookMetadata": {
    "pythonIndentUnit": 4
   },
   "notebookName": "sales-projects-orders-error-check",
   "widgets": {}
  }
 },
 "nbformat": 4,
 "nbformat_minor": 0
}
